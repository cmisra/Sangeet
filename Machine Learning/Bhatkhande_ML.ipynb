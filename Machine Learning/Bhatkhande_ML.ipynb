{
  "nbformat": 4,
  "nbformat_minor": 0,
  "metadata": {
    "colab": {
      "provenance": [],
      "authorship_tag": "ABX9TyOQ+Yo4jk2KIErcbniwfz9l"
    },
    "kernelspec": {
      "name": "python3",
      "display_name": "Python 3"
    },
    "language_info": {
      "name": "python"
    }
  },
  "cells": [
    {
      "cell_type": "markdown",
      "source": [
        "Importing Python Libraries\n",
        "\n",
        "\n",
        "---\n",
        "\n"
      ],
      "metadata": {
        "id": "mN0vQYSGlHNJ"
      }
    },
    {
      "cell_type": "code",
      "execution_count": null,
      "metadata": {
        "colab": {
          "base_uri": "https://localhost:8080/"
        },
        "id": "ArpDJIaXI8BB",
        "outputId": "3b106949-94a3-4a99-f526-74836d00789a"
      },
      "outputs": [
        {
          "output_type": "stream",
          "name": "stdout",
          "text": [
            "1.2.2\n"
          ]
        }
      ],
      "source": [
        "from numpy import random\n",
        "import numpy as np\n",
        "import matplotlib.pyplot as plt\n",
        "import pandas as pd\n",
        "from functools import reduce\n",
        "import math\n",
        "import itertools\n",
        "import statistics\n",
        "import seaborn as sns\n",
        "import matplotlib.transforms as transforms\n",
        "\n",
        "import sklearn\n",
        "from sklearn.neighbors import KNeighborsClassifier\n",
        "import numpy as np\n",
        "from sklearn.neighbors import DistanceMetric\n",
        "from sklearn.neighbors import BallTree\n",
        "print(sklearn.__version__)"
      ]
    },
    {
      "cell_type": "markdown",
      "source": [
        "Mounting the Google Drive\n",
        "\n",
        "---\n",
        "\n"
      ],
      "metadata": {
        "id": "c0PKNPwElQJ-"
      }
    },
    {
      "cell_type": "code",
      "source": [
        "from google.colab import drive\n",
        "drive.mount('/content/drive')"
      ],
      "metadata": {
        "colab": {
          "base_uri": "https://localhost:8080/"
        },
        "id": "iN_u_Y4EJH8g",
        "outputId": "7da902fa-f665-48ed-a4b2-c5b68f2590bc"
      },
      "execution_count": null,
      "outputs": [
        {
          "output_type": "stream",
          "name": "stdout",
          "text": [
            "Mounted at /content/drive\n"
          ]
        }
      ]
    },
    {
      "cell_type": "markdown",
      "source": [
        "Read the Dataset\n",
        "\n",
        "\n",
        "---\n",
        "\n"
      ],
      "metadata": {
        "id": "PQPkLdoglabD"
      }
    },
    {
      "cell_type": "code",
      "source": [
        "from pickle import FALSE\n",
        "import pandas as pd\n",
        "df=pd.read_csv(\"/content/drive/MyDrive/My Research/Bhatkhande Dataset/Bhatkhande-Dataset.csv\")\n",
        "print(df.shape)"
      ],
      "metadata": {
        "colab": {
          "base_uri": "https://localhost:8080/"
        },
        "id": "KKzBWfdFJSjq",
        "outputId": "38a35b9e-753f-4bc3-f07d-fcf75d9a20f2"
      },
      "execution_count": null,
      "outputs": [
        {
          "output_type": "stream",
          "name": "stdout",
          "text": [
            "(116, 13)\n"
          ]
        }
      ]
    },
    {
      "cell_type": "markdown",
      "source": [
        "Split the dataset in training and test set\n",
        "\n",
        "---\n",
        "\n"
      ],
      "metadata": {
        "id": "VLgBjOqIlfGb"
      }
    },
    {
      "cell_type": "code",
      "source": [
        "from sklearn.model_selection import train_test_split\n",
        "from sklearn.linear_model import LogisticRegression\n",
        "\n",
        "X = df.drop(['Raag'],axis=1).values\n",
        "y = df['Raag'].values\n",
        "X_train,X_test,y_train,y_test = train_test_split(X,y, test_size = 0.3, random_state=1)\n",
        "\n",
        "print(X_train.shape)\n",
        "print(y_train.shape)\n",
        "\n",
        "print(X_test[0][11])\n",
        "print(y_test.shape)"
      ],
      "metadata": {
        "colab": {
          "base_uri": "https://localhost:8080/"
        },
        "id": "_XmIGMe4Kfc5",
        "outputId": "cad09e92-8ddc-4a6f-e100-2f15bd94f069"
      },
      "execution_count": null,
      "outputs": [
        {
          "output_type": "stream",
          "name": "stdout",
          "text": [
            "(81, 12)\n",
            "(81,)\n",
            "5\n",
            "(35,)\n"
          ]
        }
      ]
    },
    {
      "cell_type": "markdown",
      "source": [
        "Creating the logistic regression model and obtaining the accuracy score\n",
        "\n",
        "---"
      ],
      "metadata": {
        "id": "7iXzWSjclt_3"
      }
    },
    {
      "cell_type": "code",
      "source": [
        "logisticRegr = LogisticRegression()\n",
        "logisticRegr.fit(X_train, y_train)\n",
        "logisticRegr.predict(X_test)\n",
        "predictions = logisticRegr.predict(X_test)\n",
        "score = logisticRegr.score(X_test, y_test)\n",
        "print(score)"
      ],
      "metadata": {
        "colab": {
          "base_uri": "https://localhost:8080/"
        },
        "id": "64qQ-aw3LPxh",
        "outputId": "9092b445-7682-4d91-e5b1-2504cf9efcae"
      },
      "execution_count": null,
      "outputs": [
        {
          "output_type": "stream",
          "name": "stdout",
          "text": [
            "0.9142857142857143\n"
          ]
        },
        {
          "output_type": "stream",
          "name": "stderr",
          "text": [
            "/usr/local/lib/python3.10/dist-packages/sklearn/linear_model/_logistic.py:458: ConvergenceWarning: lbfgs failed to converge (status=1):\n",
            "STOP: TOTAL NO. of ITERATIONS REACHED LIMIT.\n",
            "\n",
            "Increase the number of iterations (max_iter) or scale the data as shown in:\n",
            "    https://scikit-learn.org/stable/modules/preprocessing.html\n",
            "Please also refer to the documentation for alternative solver options:\n",
            "    https://scikit-learn.org/stable/modules/linear_model.html#logistic-regression\n",
            "  n_iter_i = _check_optimize_result(\n"
          ]
        }
      ]
    },
    {
      "cell_type": "markdown",
      "source": [
        "Creating the knn model and obtaining the accuracy score\n",
        "\n",
        "---\n",
        "\n"
      ],
      "metadata": {
        "id": "l7lwjbmomCFO"
      }
    },
    {
      "cell_type": "code",
      "source": [
        "nbrs = KNeighborsClassifier(n_neighbors=7, algorithm='ball_tree', metric='euclidean')\n",
        "nbrs.fit(X_train, y_train)\n",
        "y_pred = nbrs.predict(X_test)\n",
        "score = nbrs.score(X_test, y_test)\n",
        "print(score)"
      ],
      "metadata": {
        "colab": {
          "base_uri": "https://localhost:8080/"
        },
        "id": "zcwTUA3SLbRB",
        "outputId": "950a9bf6-5ee2-4603-b2b0-6fd77e441ae5"
      },
      "execution_count": null,
      "outputs": [
        {
          "output_type": "stream",
          "name": "stdout",
          "text": [
            "0.9428571428571428\n"
          ]
        }
      ]
    },
    {
      "cell_type": "markdown",
      "source": [
        "Creating the decision tree model and obtaining the accuracy score\n",
        "\n",
        "---\n",
        "\n",
        "\n"
      ],
      "metadata": {
        "id": "WJjACgwemH6i"
      }
    },
    {
      "cell_type": "code",
      "source": [
        "from sklearn import tree\n",
        "from sklearn import metrics\n",
        "\n",
        "clf = tree.DecisionTreeClassifier(splitter='best', max_depth=None)\n",
        "clf = clf.fit(X_train, y_train)\n",
        "y_pred = clf.predict(X_test)\n",
        "#score = clf.score(X_test, y_test)\n",
        "#print(score)\n",
        "print(\"Accuracy:\",metrics.accuracy_score(y_test, y_pred))"
      ],
      "metadata": {
        "colab": {
          "base_uri": "https://localhost:8080/"
        },
        "id": "352M3OxFMIHq",
        "outputId": "4dd1c8e5-b113-45e6-daa2-d153248b5810"
      },
      "execution_count": null,
      "outputs": [
        {
          "output_type": "stream",
          "name": "stdout",
          "text": [
            "Accuracy: 0.9714285714285714\n"
          ]
        }
      ]
    }
  ]
}