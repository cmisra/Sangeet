{
  "nbformat": 4,
  "nbformat_minor": 0,
  "metadata": {
    "colab": {
      "provenance": [],
      "authorship_tag": "ABX9TyMT2O6U/mWBxiQ3YGcYxtSg"
    },
    "kernelspec": {
      "name": "python3",
      "display_name": "Python 3"
    },
    "language_info": {
      "name": "python"
    }
  },
  "cells": [
    {
      "cell_type": "code",
      "execution_count": null,
      "metadata": {
        "id": "1bcFyyQ_uuKC"
      },
      "outputs": [],
      "source": [
        "from bs4 import BeautifulSoup\n",
        "import xml.etree.ElementTree as ET\n",
        "import html as ht"
      ]
    },
    {
      "cell_type": "code",
      "source": [
        "from google.colab import drive\n",
        "drive.mount('/content/drive')"
      ],
      "metadata": {
        "colab": {
          "base_uri": "https://localhost:8080/"
        },
        "id": "NB2javHGvHlW",
        "outputId": "dd3976a3-6a75-458d-eabb-38b328844cec"
      },
      "execution_count": null,
      "outputs": [
        {
          "output_type": "stream",
          "name": "stdout",
          "text": [
            "Mounted at /content/drive\n"
          ]
        }
      ]
    },
    {
      "cell_type": "code",
      "source": [
        "tree = ET.parse(\"/content/drive/MyDrive/My Research/Bhatkhande Dataset/Bhatkhande XML Files/Bhairav-1-168.xml\")\n",
        "# with open('/content/drive/MyDrive/My Research/Bhatkhande Dataset/Bhatkhande Final HTML Files/Yaman-4-28.html','w') as htmlfile:\n",
        "html = ET.Element('html')\n",
        "head = ET.SubElement(html, 'head')\n",
        "link = ET.SubElement(head, 'link')\n",
        "link.set('rel','stylesheet')\n",
        "link.set('href','https://webfonts.omenad.net/fonts.css')\n",
        "link = ET.SubElement(head, 'link')\n",
        "link.set('rel','stylesheet')\n",
        "link.set('href','notation.css')\n",
        "link = ET.SubElement(head, 'link')\n",
        "link.set('rel','stylesheet')\n",
        "link.set('href','music-sheet.css')\n",
        "title = ET.SubElement(head, 'title')\n",
        "title.text = tree.find('./INFO/TITLE').text\n",
        "\n",
        "body = ET.SubElement(html, 'body')\n",
        "\n",
        "para = ET.SubElement(body, 'p')\n",
        "heading = ET.SubElement(para, 'strong')\n",
        "composer = tree.find('./INFO/COMPOSER')\n",
        "heading.text = 'Composer: '\n",
        "heading.tail = composer.text\n",
        "\n",
        "para = ET.SubElement(body, 'p')\n",
        "heading = ET.SubElement(para, 'strong')\n",
        "notation_system = tree.find('./INFO/NOTATION-SYSTEM')\n",
        "heading.text = 'Notation System: '\n",
        "heading.tail = notation_system.text\n",
        "\n",
        "para = ET.SubElement(body, 'p')\n",
        "heading = ET.SubElement(para, 'strong')\n",
        "year = tree.find('./INFO/YEAR')\n",
        "heading.text = 'Year: '\n",
        "heading.tail = year.text\n",
        "\n",
        "para = ET.SubElement(body, 'p')\n",
        "heading = ET.SubElement(para, 'strong')\n",
        "genre = tree.find('./INFO/GENRE')\n",
        "heading.text = 'Genre: '\n",
        "heading.tail = genre.text\n",
        "\n",
        "para = ET.SubElement(body, 'p')\n",
        "heading = ET.SubElement(para, 'strong')\n",
        "raag = tree.find('./RAAG/RAAG_NAME')\n",
        "heading.text = 'Raag: '\n",
        "heading.tail = raag.text\n",
        "\n",
        "para = ET.SubElement(body, 'p')\n",
        "heading = ET.SubElement(para, 'strong')\n",
        "taal = tree.find('./TAAL/TAAL_NAME')\n",
        "heading.text = 'Taal: '\n",
        "heading.tail = taal.text\n",
        "\n",
        "para = ET.SubElement(body, 'p')\n",
        "heading = ET.SubElement(para, 'strong')\n",
        "thaat = tree.find('./RAAG/THAAT')\n",
        "heading.text = 'Thaat: '\n",
        "heading.tail = thaat.text\n",
        "\n",
        "table = ET.SubElement(body, 'table')\n",
        "table.set('class', 'composition bhatkhande-hindi')\n",
        "\n",
        "lines = tree.findall('./SHEET/LINES/LINE/ROW')\n",
        "\n",
        "for line in lines:\n",
        "  tr = ET.SubElement(table, 'tr')\n",
        "  cols = line.findall('COL/CONTENT')\n",
        "  for col in cols:\n",
        "    td = ET.SubElement(tr, 'td')\n",
        "    code = ET.SubElement(td, 'code')\n",
        "    code.text = col.text\n",
        "\n",
        "\n",
        "ET.indent(html, '  ')\n",
        "document = ET.ElementTree(html)\n",
        "with open('/content/drive/MyDrive/My Research/Bhatkhande Dataset/Bhatkhande Final HTML Files/Bhairav-1-168.html', 'w') as f:\n",
        "  document.write(f, encoding='unicode')"
      ],
      "metadata": {
        "id": "iEkP123n6Y8H"
      },
      "execution_count": null,
      "outputs": []
    }
  ]
}