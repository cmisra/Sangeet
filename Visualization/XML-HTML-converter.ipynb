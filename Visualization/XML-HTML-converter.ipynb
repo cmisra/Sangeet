tree = ET.parse("/content/drive/MyDrive/My Research/Bhatkhande Dataset/Bhatkhande XML Files/Bhairav-1-168.xml")
# with open('/content/drive/MyDrive/My Research/Bhatkhande Dataset/Bhatkhande Final HTML Files/Yaman-4-28.html','w') as htmlfile:
html = ET.Element('html')
head = ET.SubElement(html, 'head')
link = ET.SubElement(head, 'link')
link.set('rel','stylesheet')
link.set('href','https://webfonts.omenad.net/fonts.css')
link = ET.SubElement(head, 'link')
link.set('rel','stylesheet')
link.set('href','notation.css')
link = ET.SubElement(head, 'link')
link.set('rel','stylesheet')
link.set('href','music-sheet.css')
title = ET.SubElement(head, 'title')
title.text = tree.find('./INFO/TITLE').text

body = ET.SubElement(html, 'body')

para = ET.SubElement(body, 'p')
heading = ET.SubElement(para, 'strong')
composer = tree.find('./INFO/COMPOSER')
heading.text = 'Composer: '
heading.tail = composer.text

para = ET.SubElement(body, 'p')
heading = ET.SubElement(para, 'strong')
notation_system = tree.find('./INFO/NOTATION-SYSTEM')
heading.text = 'Notation System: '
heading.tail = notation_system.text

para = ET.SubElement(body, 'p')
heading = ET.SubElement(para, 'strong')
year = tree.find('./INFO/YEAR')
heading.text = 'Year: '
heading.tail = year.text

para = ET.SubElement(body, 'p')
heading = ET.SubElement(para, 'strong')
genre = tree.find('./INFO/GENRE')
heading.text = 'Genre: '
heading.tail = genre.text

para = ET.SubElement(body, 'p')
heading = ET.SubElement(para, 'strong')
raag = tree.find('./RAAG/RAAG_NAME')
heading.text = 'Raag: '
heading.tail = raag.text

para = ET.SubElement(body, 'p')
heading = ET.SubElement(para, 'strong')
taal = tree.find('./TAAL/TAAL_NAME')
heading.text = 'Taal: '
heading.tail = taal.text

para = ET.SubElement(body, 'p')
heading = ET.SubElement(para, 'strong')
thaat = tree.find('./RAAG/THAAT')
heading.text = 'Thaat: '
heading.tail = thaat.text

table = ET.SubElement(body, 'table')
table.set('class', 'composition bhatkhande-hindi')

lines = tree.findall('./SHEET/LINES/LINE/ROW')

for line in lines:
  tr = ET.SubElement(table, 'tr')
  cols = line.findall('COL/CONTENT')
  for col in cols:
    td = ET.SubElement(tr, 'td')
    code = ET.SubElement(td, 'code')
    code.text = col.text


ET.indent(html, '  ')
document = ET.ElementTree(html)
with open('/content/drive/MyDrive/My Research/Bhatkhande Dataset/Bhatkhande Final HTML Files/Bhairav-1-168.html', 'w') as f:
  document.write(f, encoding='unicode')
