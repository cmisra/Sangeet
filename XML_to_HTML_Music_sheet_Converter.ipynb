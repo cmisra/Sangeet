{
  "nbformat": 4,
  "nbformat_minor": 0,
  "metadata": {
    "colab": {
      "provenance": [],
      "authorship_tag": "ABX9TyObYO8SNPdTpUIuC6ujUtoN"
    },
    "kernelspec": {
      "name": "python3",
      "display_name": "Python 3"
    },
    "language_info": {
      "name": "python"
    }
  },
  "cells": [
    {
      "cell_type": "code",
      "execution_count": 2,
      "metadata": {
        "id": "1bcFyyQ_uuKC"
      },
      "outputs": [],
      "source": [
        "from bs4 import BeautifulSoup\n",
        "import xml.etree.ElementTree as ET\n",
        "import html as ht"
      ]
    },
    {
      "cell_type": "code",
      "source": [
        "from google.colab import drive\n",
        "drive.mount('/content/drive')"
      ],
      "metadata": {
        "colab": {
          "base_uri": "https://localhost:8080/"
        },
        "id": "NB2javHGvHlW",
        "outputId": "dd3976a3-6a75-458d-eabb-38b328844cec"
      },
      "execution_count": 3,
      "outputs": [
        {
          "output_type": "stream",
          "name": "stdout",
          "text": [
            "Mounted at /content/drive\n"
          ]
        }
      ]
    },
    {
      "cell_type": "code",
      "source": [
        "with open('/content/drive/MyDrive/My Research/Bhatkhande Dataset/Bhatkhande XML Files/Yaman-4-28.xml', 'r') as f:\n",
        "    data = f.read()\n",
        "\n",
        "Bs_data = BeautifulSoup(data, \"xml\")"
      ],
      "metadata": {
        "colab": {
          "base_uri": "https://localhost:8080/"
        },
        "id": "IRJPPYOAvQVt",
        "outputId": "6d50cb17-8213-45c3-cd03-2518ef0f36eb"
      },
      "execution_count": null,
      "outputs": [
        {
          "output_type": "stream",
          "name": "stdout",
          "text": [
            "<?xml version=\"1.0\" encoding=\"utf-8\"?>\n",
            "<swarlipi>\n",
            "<info>\n",
            "<title>Yaman-4-28</title>\n",
            "<composer>Vishnu Narayan Bhatkhande</composer>\n",
            "<notation-system>Bhatkhande</notation-system>\n",
            "<year>1965</year>\n",
            "<genre>Hindusthani</genre>\n",
            "</info>\n",
            "<taal>tritaal</taal>\n",
            "<raag>yaman</raag>\n",
            "<thaat>kalyan</thaat>\n",
            "<sheet>\n",
            "<lines>\n",
            "<line index=\"0\">\n",
            "<col index=\"0\">&lt;sup&gt;g&lt;/sup&gt;p  -</col>\n",
            "</line>\n",
            "<line index=\"1\">\n",
            "<col index=\"0\">g  r  g  r</col>\n",
            "<col index=\"1\">s  -  s  -</col>\n",
            "<col index=\"2\">g  -  -  r</col>\n",
            "<col index=\"3\">&lt;sup&gt;nl&lt;/sup&gt;s  r  s  s</col>\n",
            "</line>\n",
            "<line index=\"2\">\n",
            "<col index=\"0\">&lt;sup&gt;nl&lt;/sup&gt;s  s  nl  &lt;sup&gt;dl&lt;/sup&gt;nl</col>\n",
            "<col index=\"1\">pl  dl  pl  pl</col>\n",
            "<col index=\"2\">&lt;sup&gt;nl&lt;/sup&gt;s  r  g  r</col>\n",
            "<col index=\"3\">s  s  &lt;sup&gt;s&lt;/sup&gt;p  -</col>\n",
            "</line>\n",
            "<line index=\"3\">\n",
            "<col index=\"0\">g  r  g  r</col>\n",
            "<col index=\"1\">&lt;sup&gt;nl&lt;/sup&gt;s  r  s  -</col>\n",
            "</line>\n",
            "<line index=\"4\">\n",
            "<col index=\"0\">&lt;sup&gt;g&lt;/sup&gt;p  -  g  p</col>\n",
            "<col index=\"1\">p  p  d  p</col>\n",
            "<col index=\"2\">&lt;sup&gt;M&lt;/sup&gt;p  -  d  d</col>\n",
            "<col index=\"3\">&lt;sup&gt;d&lt;/sup&gt;n  &lt;sup&gt;d&lt;/sup&gt;n  (p)  -</col>\n",
            "</line>\n",
            "<line index=\"5\">\n",
            "<col index=\"0\">&lt;sup&gt;nl&lt;/sup&gt;s  -  g  r</col>\n",
            "<col index=\"1\">g  g  g  -</col>\n",
            "<col index=\"2\">&lt;sup&gt;g&lt;/sup&gt;qpww w ep  p  (p)</col>\n",
            "<col index=\"3\">&lt;sup&gt;g&lt;/sup&gt;r  -  s  -</col>\n",
            "</line>\n",
            "<line index=\"6\">\n",
            "<col index=\"0\">&lt;sup&gt;M&lt;/sup&gt;p  &lt;sup&gt;p&lt;/sup&gt;g  g  p</col>\n",
            "<col index=\"1\">p  p  p  -</col>\n",
            "<col index=\"2\">&lt;sup&gt;M&lt;/sup&gt;p  d  &lt;sup&gt;p&lt;/sup&gt;d  n</col>\n",
            "<col index=\"3\">&lt;sup&gt;d&lt;/sup&gt;p  d  p  -</col>\n",
            "</line>\n",
            "<line index=\"7\">\n",
            "<col index=\"0\">&lt;sup&gt;nl&lt;/sup&gt;s  -  g  r</col>\n",
            "<col index=\"1\">g  -  g  -</col>\n",
            "<col index=\"2\">@gM  @pd  @nd  @pM</col>\n",
            "<col index=\"3\">@gr  @gr  s  &lt;sup&gt;s&lt;/sup&gt;p</col>\n",
            "</line>\n",
            "</lines>\n",
            "</sheet>\n",
            "</swarlipi>\n"
          ]
        }
      ]
    },
    {
      "cell_type": "code",
      "source": [
        "tree = ET.parse(\"/content/drive/MyDrive/My Research/Bhatkhande Dataset/Bhatkhande XML Files/Yaman-4-28.xml\")\n",
        "root = tree.getroot()\n",
        "lines = tree.findall('./sheet/lines/line')\n",
        "\n",
        "for line in lines:\n",
        "  cols = line.findall('col')\n",
        "  for col in cols:\n",
        "    print(col.text)\n",
        "\n"
      ],
      "metadata": {
        "colab": {
          "base_uri": "https://localhost:8080/"
        },
        "id": "4rKH8uhB30ko",
        "outputId": "9f9a817d-9ab6-4427-83da-696f7ff24ab5"
      },
      "execution_count": null,
      "outputs": [
        {
          "output_type": "stream",
          "name": "stdout",
          "text": [
            "<sup>g</sup>p  -\n",
            "g  r  g  r\n",
            "s  -  s  -\n",
            "g  -  -  r\n",
            "<sup>nl</sup>s  r  s  s\n",
            "<sup>nl</sup>s  s  nl  <sup>dl</sup>nl\n",
            "pl  dl  pl  pl\n",
            "<sup>nl</sup>s  r  g  r\n",
            "s  s  <sup>s</sup>p  -\n",
            "g  r  g  r\n",
            "<sup>nl</sup>s  r  s  -\n",
            "<sup>g</sup>p  -  g  p\n",
            "p  p  d  p\n",
            "<sup>M</sup>p  -  d  d\n",
            "<sup>d</sup>n  <sup>d</sup>n  (p)  -\n",
            "<sup>nl</sup>s  -  g  r\n",
            "g  g  g  -\n",
            "<sup>g</sup>qpww w ep  p  (p)\n",
            "<sup>g</sup>r  -  s  -\n",
            "<sup>M</sup>p  <sup>p</sup>g  g  p\n",
            "p  p  p  -\n",
            "<sup>M</sup>p  d  <sup>p</sup>d  n\n",
            "<sup>d</sup>p  d  p  -\n",
            "<sup>nl</sup>s  -  g  r\n",
            "g  -  g  -\n",
            "@gM  @pd  @nd  @pM\n",
            "@gr  @gr  s  <sup>s</sup>p\n"
          ]
        }
      ]
    },
    {
      "cell_type": "code",
      "source": [
        "tree = ET.parse(\"/content/drive/MyDrive/My Research/Bhatkhande Dataset/Bhatkhande XML Files/Bhairav-1-168.xml\")\n",
        "# with open('/content/drive/MyDrive/My Research/Bhatkhande Dataset/Bhatkhande Final HTML Files/Yaman-4-28.html','w') as htmlfile:\n",
        "html = ET.Element('html')\n",
        "head = ET.SubElement(html, 'head')\n",
        "link = ET.SubElement(head, 'link')\n",
        "link.set('rel','stylesheet')\n",
        "link.set('href','https://webfonts.omenad.net/fonts.css')\n",
        "link = ET.SubElement(head, 'link')\n",
        "link.set('rel','stylesheet')\n",
        "link.set('href','notation.css')\n",
        "link = ET.SubElement(head, 'link')\n",
        "link.set('rel','stylesheet')\n",
        "link.set('href','music-sheet.css')\n",
        "title = ET.SubElement(head, 'title')\n",
        "title.text = tree.find('./INFO/TITLE').text\n",
        "\n",
        "body = ET.SubElement(html, 'body')\n",
        "\n",
        "para = ET.SubElement(body, 'p')\n",
        "heading = ET.SubElement(para, 'strong')\n",
        "composer = tree.find('./INFO/COMPOSER')\n",
        "heading.text = 'Composer: '\n",
        "heading.tail = composer.text\n",
        "\n",
        "para = ET.SubElement(body, 'p')\n",
        "heading = ET.SubElement(para, 'strong')\n",
        "notation_system = tree.find('./INFO/NOTATION-SYSTEM')\n",
        "heading.text = 'Notation System: '\n",
        "heading.tail = notation_system.text\n",
        "\n",
        "para = ET.SubElement(body, 'p')\n",
        "heading = ET.SubElement(para, 'strong')\n",
        "year = tree.find('./INFO/YEAR')\n",
        "heading.text = 'Year: '\n",
        "heading.tail = year.text\n",
        "\n",
        "para = ET.SubElement(body, 'p')\n",
        "heading = ET.SubElement(para, 'strong')\n",
        "genre = tree.find('./INFO/GENRE')\n",
        "heading.text = 'Genre: '\n",
        "heading.tail = genre.text\n",
        "\n",
        "para = ET.SubElement(body, 'p')\n",
        "heading = ET.SubElement(para, 'strong')\n",
        "raag = tree.find('./RAAG/RAAG_NAME')\n",
        "heading.text = 'Raag: '\n",
        "heading.tail = raag.text\n",
        "\n",
        "para = ET.SubElement(body, 'p')\n",
        "heading = ET.SubElement(para, 'strong')\n",
        "taal = tree.find('./TAAL/TAAL_NAME')\n",
        "heading.text = 'Taal: '\n",
        "heading.tail = taal.text\n",
        "\n",
        "para = ET.SubElement(body, 'p')\n",
        "heading = ET.SubElement(para, 'strong')\n",
        "thaat = tree.find('./RAAG/THAAT')\n",
        "heading.text = 'Thaat: '\n",
        "heading.tail = thaat.text\n",
        "\n",
        "table = ET.SubElement(body, 'table')\n",
        "table.set('class', 'composition bhatkhande-hindi')\n",
        "\n",
        "# html = '<html><head><link rel=\"stylesheet\" href=\"https://webfonts.omenad.net/fonts.css\"><link rel=\"stylesheet\" href=\"notation.css\"><title>'\n",
        "# title = Bs_data.find('title').text\n",
        "# html = html + title + '</title></head>'\n",
        "# body = '<body>'\n",
        "# composer = Bs_data.find('composer').text\n",
        "# composer_html = '<h6>Composer: ' + composer + '</h6>'\n",
        "# notation_system = Bs_data.find('notation-system').text\n",
        "# notation_html = '<h6>Notation System: ' + notation_system + '</h6>'\n",
        "# year = Bs_data.find('year').text\n",
        "# year_html = '<h6>Year: ' + year + '</h6>'\n",
        "# genre = Bs_data.find('genre').text\n",
        "# genre_html = '<h6>Genre: ' + genre + '</h6>'\n",
        "# taal = Bs_data.find('taal').text\n",
        "# taal_html = '<h6>Taal: ' + taal + '</h6>'\n",
        "# raag = Bs_data.find('raag').text\n",
        "# raag_html = '<h6>Raag: ' + raag + '</h6>'\n",
        "# thaat = Bs_data.find('thaat').text\n",
        "# thaat_html = '<h6>Thaat: ' + thaat + '</h6>'\n",
        "# body = body + composer_html + notation_html + year_html + genre_html + taal_html + raag_html + thaat_html\n",
        "\n",
        "# table = '<table class=\"composition bhatkhande-hindi\">'\n",
        "lines = tree.findall('./SHEET/LINES/LINE/ROW')\n",
        "\n",
        "# tr = ''\n",
        "for line in lines:\n",
        "  # tr = tr + '<tr>'\n",
        "  tr = ET.SubElement(table, 'tr')\n",
        "  cols = line.findall('COL/CONTENT')\n",
        "  # td = ''\n",
        "  for col in cols:\n",
        "    # td = td + '<td><code>' + col.text + '</code></td>'\n",
        "    td = ET.SubElement(tr, 'td')\n",
        "    code = ET.SubElement(td, 'code')\n",
        "    code.text = col.text\n",
        "  # tr = tr + td + '</tr>'\n",
        "  # print(tr)\n",
        "\n",
        "# table = table + tr + '</table>'\n",
        "# body = body + table + '</body>'\n",
        "# html = html + body + '</html>'\n",
        "\n",
        "ET.indent(html, '  ')\n",
        "# ht.unescape(ET.tostring(html).decode())\n",
        "document = ET.ElementTree(html)\n",
        "with open('/content/drive/MyDrive/My Research/Bhatkhande Dataset/Bhatkhande Final HTML Files/Bhairav-1-168.html', 'w') as f:\n",
        "  document.write(f, encoding='unicode')"
      ],
      "metadata": {
        "id": "iEkP123n6Y8H"
      },
      "execution_count": 10,
      "outputs": []
    },
    {
      "cell_type": "code",
      "source": [
        "print(ht.unescape('&lt;'))"
      ],
      "metadata": {
        "colab": {
          "base_uri": "https://localhost:8080/"
        },
        "id": "ThGE1vQgIWbG",
        "outputId": "fa1bf464-d00a-42b5-fedd-9957ed65a323"
      },
      "execution_count": null,
      "outputs": [
        {
          "output_type": "stream",
          "name": "stdout",
          "text": [
            "<\n"
          ]
        }
      ]
    },
    {
      "cell_type": "code",
      "source": [
        "with open('/content/drive/MyDrive/My Research/Bhatkhande Dataset/Bhatkhande Final HTML Files/Bhairav-1-168.html','w') as htmlfile:\n",
        "  html = '<html><head><title>'\n",
        "  title = Bs_data.find('title').text\n",
        "  html = html + title + '</title></head>'\n",
        "  body = '<body>'\n",
        "  composer = Bs_data.find('composer').text\n",
        "  composer_html = '<h6>Composer: ' + composer + '</h6>'\n",
        "  notation_system = Bs_data.find('notation-system').text\n",
        "  notation_html = '<h6>Notation System: ' + notation_system + '</h6>'\n",
        "  year = Bs_data.find('year').text\n",
        "  year_html = '<h6>Year: ' + year + '</h6>'\n",
        "  genre = Bs_data.find('genre').text\n",
        "  genre_html = '<h6>Genre: ' + genre + '</h6>'\n",
        "  taal = Bs_data.find('taal').text\n",
        "  taal_html = '<h6>Taal: ' + taal + '</h6>'\n",
        "  raag = Bs_data.find('raag').text\n",
        "  raag_html = '<h6>Raag: ' + raag + '</h6>'\n",
        "  thaat = Bs_data.find('thaat').text\n",
        "  thaat_html = '<h6>Thaat: ' + thaat + '</h6>'\n",
        "  body = body + composer_html + notation_html + year_html + genre_html + taal_html + raag_html + thaat_html\n",
        "\n",
        "\n",
        "  # parsing the sheet portion of the xml file\n",
        "\n",
        "    \n",
        "  html = html + body + '</body></html>'\n",
        "  htmlfile.write(html)\n",
        "htmlfile.close()"
      ],
      "metadata": {
        "id": "ViAJ6JEkvtOs"
      },
      "execution_count": null,
      "outputs": []
    }
  ]
}